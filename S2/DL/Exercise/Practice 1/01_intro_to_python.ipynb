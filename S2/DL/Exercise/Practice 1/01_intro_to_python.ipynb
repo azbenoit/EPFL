{
 "cells": [
  {
   "cell_type": "markdown",
   "id": "24d67edf",
   "metadata": {},
   "source": [
    "<!--\n",
    "SPDX-FileCopyrightText: Copyright (c) 2019-2024 Idiap Research Institute <contact@idiap.ch>\n",
    "SPDX-FileContributor: Olivier Canévet <olivier.canevet@idiap.ch>\n",
    "-->\n",
    "\n",
    "# Introduction to Python\n",
    "\n",
    "This notebook presents the minimal requirements to have in Python to do the labs. \n",
    "\n",
    "If you want more examples, you may want to visit:\n",
    "\n",
    "- <https://www.learnpython.org/>\n",
    "- <https://docs.python.org/3/tutorial/>\n",
    "- <https://www.w3schools.com/python/>\n"
   ]
  },
  {
   "cell_type": "markdown",
   "id": "580a93b9",
   "metadata": {
    "editable": true,
    "slideshow": {
     "slide_type": ""
    },
    "tags": []
   },
   "source": [
    "This notebook was developped at the [Idiap Research Institute](https://www.idiap.ch) by [Olivier Canévet](mailto:olivier.canevet@idiap.ch)."
   ]
  },
  {
   "cell_type": "markdown",
   "id": "d15f0ec7",
   "metadata": {
    "deletable": false,
    "editable": false,
    "nbgrader": {
     "cell_type": "markdown",
     "checksum": "82828acbf7e34fbd5a9593031eafdf5f",
     "grade": false,
     "grade_id": "cell-ade980485f3b086b",
     "locked": true,
     "schema_version": 3,
     "solution": false,
     "task": false
    }
   },
   "source": [
    "## Basic types\n",
    "\n",
    "In this section, you will manipulate basic types, such as integers, floats, and strings, as well as the `print()` function and comments which start with `#`.\n",
    "\n",
    "You can create variables like the following:\n",
    "\n",
    "```python\n",
    "nb_samples = 1000 # integer\n",
    "accuracy = 0.8645 # float\n",
    "name = \"svm-model\" # string\n",
    "```\n",
    "\n",
    "and you can print a variable (here `nb_samples`) with:\n",
    "\n",
    "```python\n",
    "print(nb_samples)\n",
    "```\n",
    "\n",
    "and check its type with:\n",
    "\n",
    "```python\n",
    "print(type(nb_samples))\n",
    "```\n",
    "\n",
    "You can compose strings from several variables:\n",
    "\n",
    "```python\n",
    "print(\"Model \" + name + \" achieves \" + str(100*accuracy) + \" % on \" + str(nb_samples) + \" samples\")\n",
    "```\n",
    "\n",
    "or by using f-strings, which start with `f\"...\"`, and integrate existing variables by encapsulating them between `{}`:\n",
    "\n",
    "```python\n",
    "print(f\"Model {name} achieves {100*accuracy} % on {nb_samples} samples\")\n",
    "```\n",
    "\n",
    "which both print\n",
    "\n",
    "```\n",
    "Model svm-model achieves 86.45 % on 1000 samples\n",
    "```\n",
    "\n",
    "Run the next cell to see a real output."
   ]
  },
  {
   "cell_type": "code",
   "execution_count": null,
   "id": "e4af493e",
   "metadata": {},
   "outputs": [],
   "source": [
    "nb_samples = 1000 \n",
    "accuracy = 0.8645 \n",
    "name = \"svm-model\"\n",
    "\n",
    "print(nb_samples, type(nb_samples))\n",
    "print(accuracy, type(accuracy))\n",
    "print(name, type(name))\n",
    "print(f\"Model {name} achieves {100*accuracy} % on {nb_samples} samples\")"
   ]
  },
  {
   "cell_type": "markdown",
   "id": "a82a5a52",
   "metadata": {
    "deletable": false,
    "editable": false,
    "nbgrader": {
     "cell_type": "markdown",
     "checksum": "032942363ef460cd0b31d1a8ac037a4c",
     "grade": false,
     "grade_id": "cell-81394cbf96100c6c",
     "locked": true,
     "schema_version": 3,
     "solution": false,
     "task": false
    }
   },
   "source": [
    "In the next cell, create\n",
    "- a (string) variable named `database` with value `MNIST`,\n",
    "- an (integer) variable named `nb_training_images` with value `60000`, and\n",
    "- a variable `message_to_print` using variables `database` and `nb_training_images` equal to:\n",
    "   ```\n",
    "   Training with database MNIST containing 60000 images\n",
    "   ```"
   ]
  },
  {
   "cell_type": "code",
   "execution_count": null,
   "id": "133491c7",
   "metadata": {
    "deletable": false,
    "nbgrader": {
     "cell_type": "code",
     "checksum": "c71a6211ec1f7b0914dcbbd73346d3c9",
     "grade": false,
     "grade_id": "cell-e25e541c6a9d4d73",
     "locked": false,
     "schema_version": 3,
     "solution": true,
     "task": false
    }
   },
   "outputs": [],
   "source": [
    "# database = ...\n",
    "# nb_training_images = ...\n",
    "# message_to_print = ...\n",
    "#\n",
    "# (3 lines of code)\n",
    "# YOUR CODE HERE\n",
    "raise NotImplementedError()\n",
    "\n",
    "print(message_to_print)"
   ]
  },
  {
   "cell_type": "markdown",
   "id": "f1793f6e",
   "metadata": {
    "deletable": false,
    "editable": false,
    "nbgrader": {
     "cell_type": "markdown",
     "checksum": "29234238c645d5155c46d094da56cd12",
     "grade": false,
     "grade_id": "cell-edc441cf75f44f51",
     "locked": true,
     "schema_version": 3,
     "solution": false,
     "task": false
    }
   },
   "source": [
    "Run the next cell to see if your implementation is correct:"
   ]
  },
  {
   "cell_type": "code",
   "execution_count": null,
   "id": "e93daa4d",
   "metadata": {
    "deletable": false,
    "editable": false,
    "nbgrader": {
     "cell_type": "code",
     "checksum": "6f1156748c5a8b9ace21fd40bfb8eaa3",
     "grade": true,
     "grade_id": "cell-cf069d70dfc1bea0",
     "locked": true,
     "points": 5,
     "schema_version": 3,
     "solution": false,
     "task": false
    }
   },
   "outputs": [],
   "source": [
    "assert database == \"MNIST\", f\"Variable `database` should be `MNIST`\"\n",
    "assert nb_training_images == 60000, f\"Variable `nb_training_images` should be `60000`\"\n",
    "assert message_to_print == \"Training with database MNIST containing 60000 images\", \"Wrong message\""
   ]
  },
  {
   "cell_type": "markdown",
   "id": "af85b559",
   "metadata": {
    "deletable": false,
    "editable": false,
    "nbgrader": {
     "cell_type": "markdown",
     "checksum": "2ff51dfb86b63fdf35f91e03f8196c37",
     "grade": false,
     "grade_id": "cell-f1bb3ba35f4c787e",
     "locked": true,
     "schema_version": 3,
     "solution": false,
     "task": false
    }
   },
   "source": [
    "## Functions\n",
    "\n",
    "A Python function is declared with `def`, may take arguments as input, and may return an output.\n",
    "\n",
    "```python\n",
    "def affine_function(x, a, b=0):\n",
    "    \"\"\"Computes ax + b. If `b` is not specified, its value is 0.\"\"\"\n",
    "    y = a*x + b\n",
    "    return y\n",
    "```\n",
    "\n",
    "The function is called like this:\n",
    "\n",
    "```python\n",
    "x = 1.0\n",
    "a = 2.0\n",
    "b = 3.0\n",
    "y = affine_function(x, a, b)\n",
    "print(y) # Prints 5.0 because 1*2 + 3 = 5\n",
    "```\n",
    "\n",
    "`b` is an optional parameter and can be omitted, in which case its value is `0` inside the function:\n",
    "\n",
    "```python\n",
    "print(affine_function(3.0, 2.0)) # Prints 6.0 because 3*2 + 0 = 6\n",
    "```"
   ]
  },
  {
   "cell_type": "markdown",
   "id": "1190ed99",
   "metadata": {
    "deletable": false,
    "editable": false,
    "nbgrader": {
     "cell_type": "markdown",
     "checksum": "459facd039e0b044b4aaefea7ecfbba7",
     "grade": false,
     "grade_id": "cell-d7f9db639cc911a7",
     "locked": true,
     "schema_version": 3,
     "solution": false,
     "task": false
    }
   },
   "source": [
    "In the cell below, implement function `parabola` which should implement the following formula:\n",
    "\n",
    "$$f(x) = a x^2 + bx + c $$\n",
    "\n",
    "Note that you can do a power with operator `**`, like\n",
    "\n",
    "```python\n",
    "x_cube = x**3\n",
    "```"
   ]
  },
  {
   "cell_type": "code",
   "execution_count": null,
   "id": "9be72a0e",
   "metadata": {
    "deletable": false,
    "nbgrader": {
     "cell_type": "code",
     "checksum": "468e27c30f0d712239c2299bf7c66e35",
     "grade": false,
     "grade_id": "cell-474e0f5a06bf0c48",
     "locked": false,
     "schema_version": 3,
     "solution": true,
     "task": false
    }
   },
   "outputs": [],
   "source": [
    "def parabola(x, a, b, c):\n",
    "    \"\"\"Computes ax^2 + bx + c\n",
    "    \n",
    "    Args:\n",
    "      x: input\n",
    "      a: coefficient of x^2\n",
    "      b: coefficient of x\n",
    "      c: intercept\n",
    "      \n",
    "    Returns:\n",
    "      The value of ax^2 + bx + c\n",
    "      \n",
    "    \"\"\"\n",
    "    output = 0\n",
    "    \n",
    "    # Implement the formula\n",
    "    #\n",
    "    # output = ...\n",
    "    #\n",
    "    # (1 line of code)\n",
    "    # YOUR CODE HERE\n",
    "    raise NotImplementedError()\n",
    "    \n",
    "    return output   "
   ]
  },
  {
   "cell_type": "markdown",
   "id": "4c53ccf9",
   "metadata": {
    "deletable": false,
    "editable": false,
    "nbgrader": {
     "cell_type": "markdown",
     "checksum": "f69eb40eafb1623480f8c67a925fe7bb",
     "grade": false,
     "grade_id": "cell-1dbad43135addf8d",
     "locked": true,
     "schema_version": 3,
     "solution": false,
     "task": false
    }
   },
   "source": [
    "Run the next cell to test whether your implementation is correct. Don't hesitate to make more tests by yourself."
   ]
  },
  {
   "cell_type": "code",
   "execution_count": null,
   "id": "41133454",
   "metadata": {
    "deletable": false,
    "editable": false,
    "nbgrader": {
     "cell_type": "code",
     "checksum": "7320f6621436a7bbf0ac70f473f0893a",
     "grade": true,
     "grade_id": "cell-27994f86410c9f15",
     "locked": true,
     "points": 5,
     "schema_version": 3,
     "solution": false,
     "task": false
    }
   },
   "outputs": [],
   "source": [
    "# x^2 + 2x + 1\n",
    "assert parabola(0, 1, 2, 1) == 1\n",
    "assert parabola(1, 1, 2, 1) == 4\n",
    "# x^2 - 3x + 2\n",
    "assert parabola(0, 1, -3, 2) == 2\n",
    "assert parabola(1, 1, -3, 2) == 0\n",
    "assert parabola(2, 1, -3, 2) == 0\n",
    "# x^2\n",
    "assert parabola(0, 1, 0, 0) == 0\n",
    "assert parabola(0.5, 1, 0, 0) == 0.25\n",
    "assert parabola(-0.5, 1, 0, 0) == 0.25\n",
    "assert parabola(3, 1, 0, 0) == 9"
   ]
  },
  {
   "cell_type": "markdown",
   "id": "05260bac",
   "metadata": {
    "deletable": false,
    "editable": false,
    "nbgrader": {
     "cell_type": "markdown",
     "checksum": "c4d1e78f10ee086d8f12c61014f55745",
     "grade": false,
     "grade_id": "cell-089f2c12cf681960",
     "locked": true,
     "schema_version": 3,
     "solution": false,
     "task": false
    }
   },
   "source": [
    "You will now implement the formula of the Gaussian density function with mean $\\mu$ and standard deviation $\\sigma$:\n",
    "\n",
    "$$p(x) = \\frac{1}{\\sqrt{2\\pi\\sigma^2}} \\exp \\left(-\\frac{(x-\\mu)^2}{2\\sigma^2} \\right)$$\n",
    "\n",
    "You will need functions and constants which are available in the `math` module:\n",
    "\n",
    "```python\n",
    "import math\n",
    "print(\"Pi\", math.pi)\n",
    "print(\"e\", math.exp(1))\n",
    "\n",
    "```\n",
    "\n",
    "which prints\n",
    "\n",
    "```\n",
    "Pi 3.141592653589793\n",
    "e 2.718281828459045\n",
    "```\n",
    "\n",
    "You could also do\n",
    "\n",
    "```python\n",
    "from math import sqrt\n",
    "```\n",
    "\n",
    "and then, you don't need to use `math.` all the time in the code, but you need to import each function individually:\n",
    "\n",
    "```python\n",
    "print(\"sqrt2\", sqrt(2))\n",
    "```\n",
    "\n",
    "which print\n",
    "\n",
    "```\n",
    "sqrt2 1.4142135623730951\n",
    "```"
   ]
  },
  {
   "cell_type": "markdown",
   "id": "c7807f8d",
   "metadata": {
    "deletable": false,
    "editable": false,
    "nbgrader": {
     "cell_type": "markdown",
     "checksum": "a461be19a0ca26542dbc3285a5d43a66",
     "grade": false,
     "grade_id": "cell-d09cf946c9e338db",
     "locked": true,
     "schema_version": 3,
     "solution": false,
     "task": false
    }
   },
   "source": [
    "In the cell below, we import module `math`. This is required only once, and it will now be available in the entire notebook. Usually, Python files and notebooks start with the packages you need:\n",
    "\n",
    "```python\n",
    "import os\n",
    "import sys\n",
    "import time\n",
    "```"
   ]
  },
  {
   "cell_type": "code",
   "execution_count": null,
   "id": "b2311253",
   "metadata": {},
   "outputs": [],
   "source": [
    "import math"
   ]
  },
  {
   "cell_type": "markdown",
   "id": "a062a4c0",
   "metadata": {
    "deletable": false,
    "editable": false,
    "nbgrader": {
     "cell_type": "markdown",
     "checksum": "368222e311c506faa226a4cc1dca6ce1",
     "grade": false,
     "grade_id": "cell-7a7b682c5a6eb24a",
     "locked": true,
     "schema_version": 3,
     "solution": false,
     "task": false
    }
   },
   "source": [
    "In the cell below, implement the formula of the Gaussian density function (see formula above)."
   ]
  },
  {
   "cell_type": "code",
   "execution_count": null,
   "id": "21b46645",
   "metadata": {
    "deletable": false,
    "nbgrader": {
     "cell_type": "code",
     "checksum": "b9775039214a290e2458b0471371c8c9",
     "grade": false,
     "grade_id": "cell-4e7c8e9935a4049a",
     "locked": false,
     "schema_version": 3,
     "solution": true,
     "task": false
    }
   },
   "outputs": [],
   "source": [
    "def gaussian(x, mu, sigma):\n",
    "    \"\"\"Computes the Gaussian density with mean `mu` and standard deviation `sigma`\"\"\"\n",
    "    output = 0\n",
    "    \n",
    "    # Implement the formula\n",
    "    #\n",
    "    # output = ...\n",
    "    #\n",
    "    # (1 to 5 lines of code)\n",
    "    # YOUR CODE HERE\n",
    "    raise NotImplementedError()\n",
    "    \n",
    "    return output"
   ]
  },
  {
   "cell_type": "markdown",
   "id": "5400a56c",
   "metadata": {
    "deletable": false,
    "editable": false,
    "nbgrader": {
     "cell_type": "markdown",
     "checksum": "17de9fe4c6cdb83d41f35117da1a0835",
     "grade": false,
     "grade_id": "cell-5847054fc21af8c8",
     "locked": true,
     "schema_version": 3,
     "solution": false,
     "task": false
    }
   },
   "source": [
    "Run the next cell to test whether your implementation is correct. Don't hesitate to make more tests by yourself."
   ]
  },
  {
   "cell_type": "code",
   "execution_count": null,
   "id": "8a0f7442",
   "metadata": {
    "deletable": false,
    "editable": false,
    "nbgrader": {
     "cell_type": "code",
     "checksum": "b75fb6b72a79e1fbb80b0362e83cf199",
     "grade": true,
     "grade_id": "cell-e3c3a7fdc28c498e",
     "locked": true,
     "points": 10,
     "schema_version": 3,
     "solution": false,
     "task": false
    }
   },
   "outputs": [],
   "source": [
    "# N(0, 1)\n",
    "assert math.isclose(gaussian(0, 0, 1), 0.398942280, rel_tol=1e-6)\n",
    "assert math.isclose(gaussian(0.5, 0, 1), 0.352065326, rel_tol=1e-6)\n",
    "# N(1.2, 2.3)\n",
    "assert math.isclose(gaussian(0, 1.2, 2.3), 0.1513812914, rel_tol=1e-6)\n",
    "assert math.isclose(gaussian(2.9, 1.2, 2.3), 0.1319932418, rel_tol=1e-6)\n",
    "assert math.isclose(gaussian(-0.3, 1.2, 2.3), 0.14022415038, rel_tol=1e-6)\n",
    "assert math.isclose(gaussian(3.2, 1.2, 2.3), 0.11884686185, rel_tol=1e-6)"
   ]
  },
  {
   "cell_type": "markdown",
   "id": "560b62e7",
   "metadata": {
    "deletable": false,
    "editable": false,
    "nbgrader": {
     "cell_type": "markdown",
     "checksum": "93fc88f376f7694f14f5eef5993909be",
     "grade": false,
     "grade_id": "cell-933d0bf20fdde9bd",
     "locked": true,
     "schema_version": 3,
     "solution": false,
     "task": false
    }
   },
   "source": [
    "## Basic containers\n",
    "\n",
    "In this section, you will manipulate basic containers, namely tuples, lists, and dictionaries."
   ]
  },
  {
   "cell_type": "markdown",
   "id": "2304949f",
   "metadata": {
    "deletable": false,
    "editable": false,
    "nbgrader": {
     "cell_type": "markdown",
     "checksum": "597324760d2b78ba76f043559be64f1d",
     "grade": false,
     "grade_id": "cell-e33d7ea767d7c42f",
     "locked": true,
     "schema_version": 3,
     "solution": false,
     "task": false
    }
   },
   "source": [
    "### Python lists\n",
    "\n",
    "A list is created with brackets:\n",
    "\n",
    "```python\n",
    "days = [ \"Monday\", \"Tuesday\", \"Wednesday\" ]\n",
    "list_with_different_types = [ \"John\", \"Doe\", 37, \"blue\", 1.77 ]\n",
    "```\n",
    "\n",
    "and a new element can be added with `append()`:\n",
    "\n",
    "```python\n",
    "days.append(\"Thursday\")\n",
    "```\n",
    "\n",
    "After adding this element we do:\n",
    "\n",
    "```python\n",
    "print(days)\n",
    "```\n",
    "\n",
    "which prints\n",
    "\n",
    "```\n",
    "['Monday', 'Tuesday', 'Wednesday', 'Thursday']\n",
    "```\n",
    "\n",
    "An element of the list is accessed with operator `[]`, indices start at `0`, and negative indices access elements in reverse order:\n",
    "\n",
    "```python\n",
    "print(\"First element:\", days[0])\n",
    "print(\"Second element:\", days[1])\n",
    "print(\"Last element:\", days[-1])\n",
    "```\n",
    "\n",
    "The number of elements in the list (and more generally of the majority of Python containers) is given by `len()`:\n",
    "\n",
    "```python\n",
    "print(\"Number of elements in the list:\", len(days))\n",
    "```\n",
    "\n",
    "We can iterate over the elements of the list with a `for` loop and function `range()`, which returns a sequence of integers like `[0, 1, ..., ]`, see [the documentation](https://docs.python.org/3/library/functions.html#func-range) of `range`.\n",
    "\n",
    "```python\n",
    "for i in range(len(days)):\n",
    "    print(f\"At index {i}, element is `{days[i]}`\")\n",
    "```\n",
    "\n",
    "**Note that within the `for` loop, the indentation is (usually) 4 spaces**. We can also directly iterate over the values of the list:\n",
    "\n",
    "```python\n",
    "for day in days:\n",
    "    print(day)\n",
    "```\n",
    "\n",
    "And function `enumerate` can provide an index over the value being iterated on, see [the documentation](https://docs.python.org/3/library/functions.html#enumerate) of `enumerate`:\n",
    "\n",
    "```python\n",
    "for i, day in enumerate(days, start=1):\n",
    "    print(f\"Day {i} of the week is {day}\")\n",
    "```\n",
    "\n",
    "Run the next cell to see the output of these operations."
   ]
  },
  {
   "cell_type": "code",
   "execution_count": null,
   "id": "8bfe4a92",
   "metadata": {},
   "outputs": [],
   "source": [
    "days = [ \"Monday\", \"Tuesday\", \"Wednesday\" ]\n",
    "days.append(\"Thursday\")\n",
    "\n",
    "print(days)\n",
    "print(\"First element:\", days[0])\n",
    "print(\"Second element:\", days[1])\n",
    "print(\"Last element:\", days[-1])\n",
    "print(\"Number of elements in the list:\", len(days))\n",
    "\n",
    "for i in range(len(days)):\n",
    "    print(f\"At index {i}, element is `{days[i]}`\")\n",
    "    \n",
    "for day in days:\n",
    "    print(day)\n",
    "    \n",
    "for i, day in enumerate(days, start=1):\n",
    "    print(f\"Day {i} of the week is {day}\")    "
   ]
  },
  {
   "cell_type": "markdown",
   "id": "81d6519e",
   "metadata": {
    "deletable": false,
    "editable": false,
    "nbgrader": {
     "cell_type": "markdown",
     "checksum": "fd37aa9909710881b8d0571d46fab7eb",
     "grade": false,
     "grade_id": "cell-d8cdc9a10b41437e",
     "locked": true,
     "schema_version": 3,
     "solution": false,
     "task": false
    }
   },
   "source": [
    "You will now use lists and `for` loops in some little programming exercices.\n",
    "\n",
    "In the cell below, write function `polynom` which should compute the value of a polynom given an input value and some input coefficients:\n",
    "\n",
    "$$P(x) = \\sum_{i=0}^D a_i x^i = a_0 + a_1 x + a_2 x^2 + \\dots + a_D x^D$$\n",
    "\n",
    "The pseudo code for this would be:\n",
    "\n",
    "```\n",
    "\n",
    "Input: x and the list of coefficients a = [ a_0, ..., a_D ]\n",
    "y = 0\n",
    "for i = 1, D do\n",
    "    y = y + a[i] * x^i\n",
    "return y\n",
    "```"
   ]
  },
  {
   "cell_type": "code",
   "execution_count": null,
   "id": "262b417e",
   "metadata": {
    "deletable": false,
    "nbgrader": {
     "cell_type": "code",
     "checksum": "240989e57a5c1296e219a6eecb507261",
     "grade": false,
     "grade_id": "cell-d48105963ba521dc",
     "locked": false,
     "schema_version": 3,
     "solution": true,
     "task": false
    }
   },
   "outputs": [],
   "source": [
    "def polynom(x, coefficients):\n",
    "    \"\"\"Compute the value of the polynom\n",
    "    \n",
    "    Args:  \n",
    "      x (float): input value to evaluate the polynom   \n",
    "      coefficients (list): list of coefficients from a_0 to a_D\n",
    "      \n",
    "    Returns:  \n",
    "      The value of P(x)\n",
    "      \n",
    "    Example: \n",
    "      For P(x) = x^2 - 3x + 2, we have coefficients = [2, -3, 1]\n",
    "    \n",
    "    \"\"\"\n",
    "    output = 0\n",
    "    \n",
    "    # Compute the value of the polynom on x. You may\n",
    "    # want to loop over the coefficients with a for loop.\n",
    "    #\n",
    "    # output = ...\n",
    "    #\n",
    "    # (<5 lines of code)\n",
    "    # YOUR CODE HERE\n",
    "    raise NotImplementedError()\n",
    "    \n",
    "    return output"
   ]
  },
  {
   "cell_type": "markdown",
   "id": "fa399fbd",
   "metadata": {
    "deletable": false,
    "editable": false,
    "nbgrader": {
     "cell_type": "markdown",
     "checksum": "046ca2349aaa2cbba63b805e6e478789",
     "grade": false,
     "grade_id": "cell-f461fc30ff64d2e7",
     "locked": true,
     "schema_version": 3,
     "solution": false,
     "task": false
    }
   },
   "source": [
    "Run the next cell to test whether your implementation is correct. Don't hesitate to make more tests by yourself."
   ]
  },
  {
   "cell_type": "code",
   "execution_count": null,
   "id": "4c70f18b",
   "metadata": {
    "deletable": false,
    "editable": false,
    "nbgrader": {
     "cell_type": "code",
     "checksum": "53162bb01f17b14f693186916869e7f0",
     "grade": true,
     "grade_id": "cell-cec08c1ab51411aa",
     "locked": true,
     "points": 10,
     "schema_version": 3,
     "solution": false,
     "task": false
    }
   },
   "outputs": [],
   "source": [
    "# P(x) = 2 - 3x + x^2\n",
    "assert polynom(0, [2, -3, 1]) == 2\n",
    "assert polynom(1, [2, -3, 1]) == 0\n",
    "assert polynom(0.5, [2,-3,1]) == 0.75\n",
    "# P(x) = 3 + 4x + 3*x^3\n",
    "assert polynom(0, [3, 4, 0, 3]) == 3\n",
    "assert polynom(1, [3, 4, 0, 3]) == 10\n",
    "assert polynom(-2, [3, 4, 0, 3]) == -29\n",
    "assert polynom(0.5, [3, 4, 0, 3]) == 5.375\n",
    "assert polynom(-0.5, [3, 4, 0, 3]) == 0.625"
   ]
  },
  {
   "cell_type": "markdown",
   "id": "daf3f4ba",
   "metadata": {
    "deletable": false,
    "editable": false,
    "nbgrader": {
     "cell_type": "markdown",
     "checksum": "5fc8a1c4e67e2ae58791ea33ac279480",
     "grade": false,
     "grade_id": "cell-1ed5aaf5fcb946bf",
     "locked": true,
     "schema_version": 3,
     "solution": false,
     "task": false
    }
   },
   "source": [
    "Very often in machine learning, we need to compute the accuracy of a model given the predictions of the model and the ground truth labels.\n",
    "\n",
    "A pseudo code for this operation can be\n",
    "\n",
    "```\n",
    "Inputs: \n",
    "1. the number of samples, N\n",
    "2. the predictions y_1, ..., y_N\n",
    "3. the ground truth labels l_1, ..., l_N\n",
    "\n",
    "nb_correct = 0\n",
    "for n = 1, N do\n",
    "    if y_n = l_n then\n",
    "        nb_correct = nb_correct + 1\n",
    "    \n",
    "return nb_correct / N\n",
    "```\n",
    "\n",
    "In Python, the syntax for a `if/elif/else` statement is the following:\n",
    "\n",
    "```python\n",
    "if score > 90:\n",
    "    grade = \"A\"\n",
    "elif score > 80:\n",
    "    grade = \"B\"\n",
    "elif score > 70:\n",
    "    grade = \"C\"\n",
    "elif score > 60:\n",
    "    grade = \"D\"\n",
    "else:\n",
    "    grade = \"E\"\n",
    "```\n",
    "\n",
    "Both `elif` and `else` are optional. More on conditions [here](https://www.w3schools.com/python/python_conditions.asp). **Note again an indentation of 4 spaces**.\n",
    "\n",
    "Implement function `compute_accuracy` in the cell below."
   ]
  },
  {
   "cell_type": "code",
   "execution_count": null,
   "id": "8098f899",
   "metadata": {
    "deletable": false,
    "nbgrader": {
     "cell_type": "code",
     "checksum": "924c669957288b897274cec72880711a",
     "grade": false,
     "grade_id": "cell-40102dbca327e4e9",
     "locked": false,
     "schema_version": 3,
     "solution": true,
     "task": false
    }
   },
   "outputs": [],
   "source": [
    "def compute_accuracy(predictions, labels):\n",
    "    \"\"\"Compute the accuracy\n",
    "    \n",
    "    Args:\n",
    "      predictions (list): the predictions output by a model  \n",
    "      labels (list): the ground truth labels\n",
    "    \n",
    "    Return:\n",
    "      The accuracy (float)\n",
    "      \n",
    "    Example:   \n",
    "      compute_accuracy([0, 4, 2, 3, 1], [0, 2, 6, 3, 1])    \n",
    "      should return 0.6 because the first element `0` and\n",
    "      the last two `3` and `1` are the same, so accuracy = 3/5\n",
    "    \n",
    "    \"\"\"\n",
    "    accuracy = 0\n",
    "    \n",
    "    # Compute the accuracy. You need to compare pairwise\n",
    "    # the elements of predictions and labels.\n",
    "    #\n",
    "    # accuracy = ...\n",
    "    #\n",
    "    # (<8 lines of code)\n",
    "    # YOUR CODE HERE\n",
    "    raise NotImplementedError()\n",
    "    \n",
    "    return accuracy"
   ]
  },
  {
   "cell_type": "markdown",
   "id": "6b845214",
   "metadata": {
    "deletable": false,
    "editable": false,
    "nbgrader": {
     "cell_type": "markdown",
     "checksum": "4d569bc3f4ef517e521656b059d8ae4e",
     "grade": false,
     "grade_id": "cell-48a4ceaf57e9e171",
     "locked": true,
     "schema_version": 3,
     "solution": false,
     "task": false
    }
   },
   "source": [
    "Run the next cell to test whether your implementation is correct. Don't hesitate to make more tests by yourself."
   ]
  },
  {
   "cell_type": "code",
   "execution_count": null,
   "id": "93c56683",
   "metadata": {
    "deletable": false,
    "editable": false,
    "nbgrader": {
     "cell_type": "code",
     "checksum": "2b5e827482161a1fbb153bf94f2a8dbf",
     "grade": true,
     "grade_id": "cell-e706e5a6f1818fa5",
     "locked": true,
     "points": 10,
     "schema_version": 3,
     "solution": false,
     "task": false
    }
   },
   "outputs": [],
   "source": [
    "pred = [3, 2, 4, 5, 6, 6, 1, 2, 3, 4]\n",
    "lbl = [3, 2, 4, 5, 6, 6, 1, 2, 3, 4]\n",
    "assert compute_accuracy(pred, lbl) == 1.0, \"Labels and predictions are all the same\"\n",
    "pred = [3, 2, 4, 5, 6, 6, 1, 2, 3, 4]\n",
    "lbl = [2, 4, 5, 7, 7, 1, 4, 3, 2, 1]\n",
    "assert compute_accuracy(pred, lbl) == 0.0, \"Labels and predictions are all different\"\n",
    "pred = [3, 2, 4, 5, 6, 6, 1, 2, 3, 4]\n",
    "lbl = [3, 2, 4, 7, 6, 8, 1, 2, 3, 4]\n",
    "assert compute_accuracy(pred, lbl) == 0.8, \"Expect 0.8\"\n",
    "pred = [3, 2, 4, 5, 6, 6, 1, 2, 1, 4]\n",
    "lbl = [3, 2, 4, 7, 6, 8, 1, 2, 3, 9]\n",
    "assert compute_accuracy(pred, lbl) == 0.6 , \"Expect 0.6\""
   ]
  },
  {
   "cell_type": "markdown",
   "id": "c18f4f3a",
   "metadata": {
    "deletable": false,
    "editable": false,
    "nbgrader": {
     "cell_type": "markdown",
     "checksum": "7095005596dce14a726d6a3cea4515c1",
     "grade": false,
     "grade_id": "cell-fcedb35fd4d8efe7",
     "locked": true,
     "schema_version": 3,
     "solution": false,
     "task": false
    }
   },
   "source": [
    "### Python tuples\n",
    "\n",
    "Tuples are like lists except they are initialized with parenthesis instead of brackets, and they are immutable: they cannot be changed once created. More on tuples [here](https://www.w3schools.com/python/python_tuples.asp).\n",
    "\n",
    "One of the main differences with lists is that tuples are hashable (since they are immutable) and therefore can be used as key for a dictionnary (see next part).\n",
    "\n",
    "```python\n",
    "person = (\"John\", \"Doe\", 47)\n",
    "print(person)\n",
    "print(type(person))\n",
    "```\n",
    "\n",
    "displays\n",
    "\n",
    "```\n",
    "('John', 'Doe', 47)\n",
    "<class 'tuple'>\n",
    "```\n",
    "\n",
    "And\n",
    "\n",
    "```python\n",
    "person[0] = \"Jane\"\n",
    "```\n",
    "\n",
    "yields\n",
    "\n",
    "```\n",
    "TypeError: 'tuple' object does not support item assignment\n",
    "```\n",
    "\n",
    "Another small detail, creating a one-element tuple requires and explicit comma:\n",
    "\n",
    "```python\n",
    "one_element_list = [ 3.14 ]\n",
    "one_element_tuple = ( 3.14, )\n",
    "not_a_tuple = ( 3.14 )\n",
    "```\n",
    "\n",
    "Run the next cell to see what is happening."
   ]
  },
  {
   "cell_type": "code",
   "execution_count": null,
   "id": "0e1b5364",
   "metadata": {},
   "outputs": [],
   "source": [
    "one_element_list = [ 3.14 ]\n",
    "one_element_tuple = ( 3.14, )\n",
    "not_a_tuple = ( 3.14 )\n",
    "\n",
    "print(one_element_list, type(one_element_list))\n",
    "print(one_element_tuple, type(one_element_tuple))\n",
    "print(not_a_tuple, type(not_a_tuple))"
   ]
  },
  {
   "cell_type": "markdown",
   "id": "3a797c32",
   "metadata": {
    "deletable": false,
    "editable": false,
    "nbgrader": {
     "cell_type": "markdown",
     "checksum": "ddb0815f521c9f1d1ae24c7cd999871e",
     "grade": false,
     "grade_id": "cell-cd4964efa847cecd",
     "locked": true,
     "schema_version": 3,
     "solution": false,
     "task": false
    }
   },
   "source": [
    "### Python dictionnaries\n",
    "\n",
    "A dictionnary stores data values in \"key-value\" pairs and is created with braces:\n",
    "\n",
    "```python\n",
    "person = { \"firstname\": \"John\", \"familyname\": \"Doe\", \"age\": 47 }\n",
    "```\n",
    "\n",
    "The values are accessed via the corresponding key:\n",
    "\n",
    "```python\n",
    "print(\"The person is called\", person[\"firstname\"], \"and is\", person[\"age\"], \"years old.\")\n",
    "```\n",
    "\n",
    "The `[]` operator can be used to create a new element, or to update an existing one:\n",
    "\n",
    "```python\n",
    "person[\"firstname\"] = \"Jane\" # Update firstname\n",
    "person[\"height\"] = 1.77 # Create key 'height' with value 1.77\n",
    "```\n",
    "\n",
    "We can iterate over the elements of the dictionary either by looping over the keys:\n",
    "\n",
    "```python\n",
    "for key in person:\n",
    "    print(key, person[key])\n",
    "```\n",
    "\n",
    "or directly by looping over the pair using `items()`:\n",
    "\n",
    "```python\n",
    "for key, value in person.items():\n",
    "    print(key, value)\n",
    "```\n",
    "\n",
    "And as for lists and tuples, `len` returns the number of pairs un the dictionnary.\n",
    "\n",
    "Run the following cell to see what is going on."
   ]
  },
  {
   "cell_type": "code",
   "execution_count": null,
   "id": "ba681aab",
   "metadata": {},
   "outputs": [],
   "source": [
    "person = { \"firstname\": \"John\", \"familyname\": \"Doe\", \"age\": 47 }\n",
    "print(\"The person is called\", person[\"firstname\"], \"and is\", person[\"age\"], \"years old.\")\n",
    "\n",
    "person[\"firstname\"] = \"Jane\"\n",
    "person[\"height\"] = 1.77\n",
    "\n",
    "for key in person:\n",
    "    print(key, person[key])\n",
    "    \n",
    "for key, value in person.items():\n",
    "    print(key, value)\n",
    "    \n",
    "print(\"Number of elements:\", len(person))    "
   ]
  },
  {
   "cell_type": "markdown",
   "id": "67ae617d",
   "metadata": {
    "deletable": false,
    "editable": false,
    "nbgrader": {
     "cell_type": "markdown",
     "checksum": "e33dd2e4e8c5df1b53c4379795b4000e",
     "grade": false,
     "grade_id": "cell-b5f0a6220fbbb404",
     "locked": true,
     "schema_version": 3,
     "solution": false,
     "task": false
    }
   },
   "source": [
    "In the cell below, implement function `count_occurrences` which should count how many times each letter of the input string occurs, and output a dictionnary with the following pairs (letter, number of occurrences).\n",
    "\n",
    "For instance, if the input string is `exercice`, then the output dictionnary should be\n",
    "\n",
    "```\n",
    "{'e': 3, 'x': 1, 'r': 1, 'c': 2, 'i': 1}\n",
    "```\n",
    "\n",
    "You can iterate over the letters of a string with:\n",
    "\n",
    "```python\n",
    "string = \"test\"\n",
    "for letter in string:\n",
    "    print(letter)\n",
    "```\n",
    "\n",
    "And you can check whether a key is already present in the dictionnary with:\n",
    "\n",
    "```python\n",
    "if key in dictionnary:\n",
    "    print(\"The key exists and is:\", dictionnary[key])\n",
    "else:\n",
    "    print(\"The key is not present. Let's create it with value 0.\")\n",
    "    dictionnary[key] = 0\n",
    "```"
   ]
  },
  {
   "cell_type": "code",
   "execution_count": null,
   "id": "78857f85",
   "metadata": {
    "deletable": false,
    "nbgrader": {
     "cell_type": "code",
     "checksum": "f1597ad451f5dda8cb5fdcbacb0dd91b",
     "grade": false,
     "grade_id": "cell-4cea96c3145b1c3e",
     "locked": false,
     "schema_version": 3,
     "solution": true,
     "task": false
    }
   },
   "outputs": [],
   "source": [
    "def count_occurrences(string):\n",
    "    \"\"\"Count the number of occurrences of each letter in the input `string`.\"\"\"\n",
    "    occurrences = {}\n",
    "    \n",
    "    # Count how many time each letter occurs in the input\n",
    "    #\n",
    "    # (<5 lines of code)\n",
    "    # YOUR CODE HERE\n",
    "    raise NotImplementedError()\n",
    "    \n",
    "    return occurrences"
   ]
  },
  {
   "cell_type": "markdown",
   "id": "0c5cab3a",
   "metadata": {
    "deletable": false,
    "editable": false,
    "nbgrader": {
     "cell_type": "markdown",
     "checksum": "15bf84dc77b0ae0e0ade8473d0332cc0",
     "grade": false,
     "grade_id": "cell-0f99037f95706965",
     "locked": true,
     "schema_version": 3,
     "solution": false,
     "task": false
    }
   },
   "source": [
    "Run the next cell to see if your implementation is correct:"
   ]
  },
  {
   "cell_type": "code",
   "execution_count": null,
   "id": "b734ede7",
   "metadata": {
    "deletable": false,
    "editable": false,
    "nbgrader": {
     "cell_type": "code",
     "checksum": "8206ef5b4d3334acbe43670ac58e32ad",
     "grade": true,
     "grade_id": "cell-c721a7d4692a98b8",
     "locked": true,
     "points": 10,
     "schema_version": 3,
     "solution": false,
     "task": false
    }
   },
   "outputs": [],
   "source": [
    "assert count_occurrences(\"ooooh\") == {'o': 4, 'h': 1}\n",
    "assert count_occurrences(\"exercice\") == {'e': 3, 'x': 1, 'r': 1, 'c': 2, 'i': 1}\n",
    "assert count_occurrences(\"Machine Learning\") == {'M': 1, 'a': 2, 'c': 1, 'h': 1, 'i': 2, 'n': 3, 'e': 2, ' ': 1, 'L': 1, 'r': 1, 'g': 1}"
   ]
  },
  {
   "cell_type": "markdown",
   "id": "4f14945f",
   "metadata": {
    "deletable": false,
    "editable": false,
    "nbgrader": {
     "cell_type": "markdown",
     "checksum": "575486a7d6a93433b3c9140cf8ce1a66",
     "grade": false,
     "grade_id": "cell-66d80fa975d4b0fc",
     "locked": true,
     "schema_version": 3,
     "solution": false,
     "task": false
    }
   },
   "source": [
    "# Feedback\n",
    "You have now reached the end of this practical session. Please give us your feedback in the block below:\n",
    "1. What have you learned?\n",
    "2. What should be improved?\n",
    "3. What was unclear?\n",
    "4. Any comment is welcome!\n",
    "\n",
    "**Do not forget to save your notebook before submitting it, otherwise you submit the last autosave checkpoint.**"
   ]
  },
  {
   "cell_type": "markdown",
   "id": "13ae71ac",
   "metadata": {
    "deletable": false,
    "nbgrader": {
     "cell_type": "markdown",
     "checksum": "fe79b1f16f4d714ee47b6c7c1f7b3722",
     "grade": true,
     "grade_id": "cell-019118912788775f",
     "locked": false,
     "points": 0,
     "schema_version": 3,
     "solution": true,
     "task": false
    }
   },
   "source": [
    "YOUR ANSWER HERE"
   ]
  }
 ],
 "metadata": {
  "kernelspec": {
   "display_name": "Python 3 (ipykernel)",
   "language": "python",
   "name": "python3"
  },
  "language_info": {
   "codemirror_mode": {
    "name": "ipython",
    "version": 3
   },
   "file_extension": ".py",
   "mimetype": "text/x-python",
   "name": "python",
   "nbconvert_exporter": "python",
   "pygments_lexer": "ipython3",
   "version": "3.11.7"
  }
 },
 "nbformat": 4,
 "nbformat_minor": 5
}
