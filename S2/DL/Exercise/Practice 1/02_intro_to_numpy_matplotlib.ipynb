{
 "cells": [
  {
   "cell_type": "markdown",
   "id": "61bfa376",
   "metadata": {},
   "source": [
    "<!--\n",
    "SPDX-FileCopyrightText: Copyright (c) 2019-2024 Idiap Research Institute <contact@idiap.ch>\n",
    "SPDX-FileContributor: Olivier Canévet <olivier.canevet@idiap.ch>\n",
    "-->\n",
    "\n",
    "# Introduction to NumPy\n",
    "\n",
    "This notebook is a simple introduction to NumPy. If you are already familiar with NumPy, simply go through the notebook to see if there is anything unknown to you.\n",
    "\n",
    "Here are more references if you need:\n",
    "\n",
    "- [NumPy quick start](https://numpy.org/doc/stable/user/quickstart.html)\n",
    "- [Another NumPy tutorial](https://www.w3schools.com/python/numpy/numpy_intro.asp)\n",
    "- [NumPy for MATLAB users](https://numpy.org/doc/stable/user/numpy-for-matlab-users.html)\n",
    "\n",
    "After completing the notebook, you are invited to do the following entertainment quizzes:\n",
    "- [w3schools NumPy quiz](https://www.w3schools.com/python/numpy/numpy_quiz.asp)\n",
    "- [w3schools NumPy exercises](https://www.w3schools.com/python/numpy/numpy_exercises.asp)\n"
   ]
  },
  {
   "cell_type": "markdown",
   "id": "edfbdfeb",
   "metadata": {},
   "source": [
    "This notebook was developped at the [Idiap Research Institute](https://www.idiap.ch) by [Olivier Canévet](mailto:olivier.canevet@idiap.ch). Any reproduction or distribution of this document, in whole or in part, is prohibited unless permission is granted by the author."
   ]
  },
  {
   "cell_type": "markdown",
   "id": "4c501654",
   "metadata": {
    "deletable": false,
    "editable": false,
    "nbgrader": {
     "cell_type": "markdown",
     "checksum": "5feed6713544d714d51163e266960a23",
     "grade": false,
     "grade_id": "cell-c14f4e388e4793f7",
     "locked": true,
     "schema_version": 3,
     "solution": false,
     "task": false
    }
   },
   "source": [
    "We import the NumPy module with `import numpy as np` (instead of simply `import numpy` to use it with `np.something()` instead of `numpy.something()`, which is a common practice in Python."
   ]
  },
  {
   "cell_type": "code",
   "execution_count": null,
   "id": "54d3ae79",
   "metadata": {},
   "outputs": [],
   "source": [
    "import time\n",
    "import numpy as np"
   ]
  },
  {
   "cell_type": "markdown",
   "id": "63927126",
   "metadata": {
    "deletable": false,
    "editable": false,
    "nbgrader": {
     "cell_type": "markdown",
     "checksum": "117c225a704b88adc04a32a6f02b6baf",
     "grade": false,
     "grade_id": "cell-72db2e9b55da833f",
     "locked": true,
     "schema_version": 3,
     "solution": false,
     "task": false
    }
   },
   "source": [
    "## Arrays\n",
    "\n",
    "Arrays are the core structure in NumPy.\n",
    "\n",
    "```python\n",
    "x = np.array([[2.1, 3.2, 1.4], [0.1, 1.7, 8.1]])\n",
    "print(x)\n",
    "```\n",
    "\n",
    "which displays\n",
    "\n",
    "```\n",
    "[[2.1 3.2 1.4]\n",
    " [0.1 1.7 8.1]]\n",
    "```\n",
    "\n",
    "The dimension of the array is given by `shape`:\n",
    "\n",
    "```python\n",
    "print(x.shape)\n",
    "```\n",
    "\n",
    "which gives\n",
    "\n",
    "```\n",
    "(2, 3)\n",
    "```\n",
    "\n",
    "meaning an array of 2 rows and 3 columns.\n",
    "\n",
    "We can specify the type of the values with argument `dtype` (see all the available types in the [documentation](https://numpy.org/doc/stable/user/basics.types.html))\n",
    "\n",
    "```python\n",
    "x = np.array([0, 1, 0, 0], dtype=bool) # Boolean: [False  True False False]\n",
    "x = np.array([1, 2, 3, 4], dtype=float) # double precision: [1. 2. 3. 4.]\n",
    "x = np.array([128, 255, 0, 10], dtype=np.uint8) # Note np. to get unsigned char\n",
    "```\n",
    "\n",
    "If not specified, NumPy select the one that fits your data."
   ]
  },
  {
   "cell_type": "code",
   "execution_count": null,
   "id": "22afa6bf",
   "metadata": {},
   "outputs": [],
   "source": [
    "x = np.array([[2.1, 3.2, 1.4], \n",
    "              [0.1, 1.7, 8.1]])\n",
    "print(x)\n",
    "print(f\"Type of values is {x.dtype}\")\n",
    "print(f\"Array x has {x.shape[0]} rows and {x.shape[1]} columns\")\n",
    "x = np.array([1, 2, 3, 4], dtype=float)\n",
    "print(x)\n",
    "x = np.array([0, 1, 0, 0], dtype=bool)\n",
    "print(x)\n",
    "x = np.array([128, 255, 0, 10], dtype=np.uint8)\n",
    "print(x)"
   ]
  },
  {
   "cell_type": "markdown",
   "id": "46fcfb28",
   "metadata": {
    "deletable": false,
    "editable": false,
    "nbgrader": {
     "cell_type": "markdown",
     "checksum": "b45164c366445450c6d6798f8a7d6551",
     "grade": false,
     "grade_id": "cell-7fa74914e30e2152",
     "locked": true,
     "schema_version": 3,
     "solution": false,
     "task": false
    }
   },
   "source": [
    "Create a NumPy array `x` of size `(2,3)` containing the following values:\n",
    "\n",
    "```\n",
    "0.07 1.414 2.71828\n",
    "3.14 1.618 0.69314\n",
    "```"
   ]
  },
  {
   "cell_type": "code",
   "execution_count": null,
   "id": "794b8eb5",
   "metadata": {
    "deletable": false,
    "nbgrader": {
     "cell_type": "code",
     "checksum": "bf4dd959b7e80656ee71aa27f28044be",
     "grade": false,
     "grade_id": "cell-d204da3b3c3085bb",
     "locked": false,
     "schema_version": 3,
     "solution": true,
     "task": false
    }
   },
   "outputs": [],
   "source": [
    "# Create an array of containing the values above\n",
    "#\n",
    "# x = ...\n",
    "#\n",
    "# (1 line of code)\n",
    "# YOUR CODE HERE\n",
    "raise NotImplementedError()\n",
    "print(x)"
   ]
  },
  {
   "cell_type": "markdown",
   "id": "a39faf3c",
   "metadata": {
    "deletable": false,
    "editable": false,
    "nbgrader": {
     "cell_type": "markdown",
     "checksum": "0dcb4955249c4eabe6310ec487ad3249",
     "grade": false,
     "grade_id": "cell-0f802614233d88f5",
     "locked": true,
     "schema_version": 3,
     "solution": false,
     "task": false
    }
   },
   "source": [
    "Run the next cell to see if your implementation is correct:"
   ]
  },
  {
   "cell_type": "code",
   "execution_count": null,
   "id": "194b9d3f",
   "metadata": {
    "deletable": false,
    "editable": false,
    "nbgrader": {
     "cell_type": "code",
     "checksum": "1f5d3afd3f70bf7f46b94ca2e4c886a4",
     "grade": true,
     "grade_id": "cell-7cf3d502b1b5768e",
     "locked": true,
     "points": 2,
     "schema_version": 3,
     "solution": false,
     "task": false
    }
   },
   "outputs": [],
   "source": [
    "assert x.shape == (2, 3), \"The shape of `x` should be (2, 3)\"\n",
    "for i, j, v in zip(np.repeat([0,1],[3]), np.tile([0,1,2],[2]), [0.07, 1.414, 2.71828, 3.14, 1.618, 0.69314]):\n",
    "    assert x[i, j] == v, f\"Value at row {i} and column {j} should be {v}\""
   ]
  },
  {
   "cell_type": "markdown",
   "id": "20d0390c",
   "metadata": {
    "deletable": false,
    "editable": false,
    "nbgrader": {
     "cell_type": "markdown",
     "checksum": "468e267e3f8a665e04a61928a8f4426e",
     "grade": false,
     "grade_id": "cell-c2a765fc2aaa73b5",
     "locked": true,
     "schema_version": 3,
     "solution": false,
     "task": false
    }
   },
   "source": [
    "By using function `np.zeros()`, create an array `x` of size `(3, 2, 4)` full of zeros. See the [documentation](https://numpy.org/doc/stable/reference/generated/numpy.zeros.html) of function `numpy.zeros`."
   ]
  },
  {
   "cell_type": "code",
   "execution_count": null,
   "id": "e3c90295",
   "metadata": {
    "deletable": false,
    "nbgrader": {
     "cell_type": "code",
     "checksum": "8de46e691b6a96953ac3dea3a6753935",
     "grade": false,
     "grade_id": "cell-797407c2f3be9f5f",
     "locked": false,
     "schema_version": 3,
     "solution": true,
     "task": false
    }
   },
   "outputs": [],
   "source": [
    "# Create an array of zeros of shape (3, 2, 4)\n",
    "# by using np.zeros(...)\n",
    "#\n",
    "# x = ...\n",
    "#\n",
    "# (1 line of code)\n",
    "# YOUR CODE HERE\n",
    "raise NotImplementedError()\n",
    "print(x)"
   ]
  },
  {
   "cell_type": "markdown",
   "id": "8c2ef518",
   "metadata": {
    "deletable": false,
    "editable": false,
    "nbgrader": {
     "cell_type": "markdown",
     "checksum": "bbe6f0a22e140e691599e04a7616bcbc",
     "grade": false,
     "grade_id": "cell-ba64d8ec771bb7a2",
     "locked": true,
     "schema_version": 3,
     "solution": false,
     "task": false
    }
   },
   "source": [
    "Run the next cell to see if your implementation is correct:"
   ]
  },
  {
   "cell_type": "code",
   "execution_count": null,
   "id": "7a9a2a47",
   "metadata": {
    "deletable": false,
    "editable": false,
    "nbgrader": {
     "cell_type": "code",
     "checksum": "6a07c0888303b337596e954c68d43e7f",
     "grade": true,
     "grade_id": "cell-82f208429b5571b4",
     "locked": true,
     "points": 2,
     "schema_version": 3,
     "solution": false,
     "task": false
    }
   },
   "outputs": [],
   "source": [
    "assert x.shape == (3, 2, 4), \"The shape of `x` should be (3, 2, 4)\"\n",
    "assert np.array_equal(x, np.array([[[0.0]*4]*2]*3)), \"Array `x` should be full of zeros\""
   ]
  },
  {
   "cell_type": "markdown",
   "id": "e12dcf21",
   "metadata": {},
   "source": [
    "By using function `np.ones()`, create an array `x` of size `(2, 5)` full of ones. See the [documentation](https://numpy.org/doc/stable/reference/generated/numpy.ones.html) of function `numpy.ones`."
   ]
  },
  {
   "cell_type": "code",
   "execution_count": null,
   "id": "631c499b",
   "metadata": {
    "deletable": false,
    "nbgrader": {
     "cell_type": "code",
     "checksum": "dcb4448532b7ee6e4246e85fb5dc7d34",
     "grade": false,
     "grade_id": "cell-cdee1ad98f949e82",
     "locked": false,
     "schema_version": 3,
     "solution": true,
     "task": false
    }
   },
   "outputs": [],
   "source": [
    "# Create an array of ones of shape (2, 5)\n",
    "# by using np.ones(...)\n",
    "#\n",
    "# x = ...\n",
    "#\n",
    "# (1 line of code)\n",
    "# YOUR CODE HERE\n",
    "raise NotImplementedError()\n",
    "print(x)"
   ]
  },
  {
   "cell_type": "markdown",
   "id": "8e3a28f8",
   "metadata": {
    "deletable": false,
    "editable": false,
    "nbgrader": {
     "cell_type": "markdown",
     "checksum": "cbc128c7740fc52779197655b25b90db",
     "grade": false,
     "grade_id": "cell-455da4da7bc439f1",
     "locked": true,
     "schema_version": 3,
     "solution": false,
     "task": false
    }
   },
   "source": [
    "Run the next cell to see if your implementation is correct:"
   ]
  },
  {
   "cell_type": "code",
   "execution_count": null,
   "id": "f4086056",
   "metadata": {
    "deletable": false,
    "editable": false,
    "nbgrader": {
     "cell_type": "code",
     "checksum": "0085e1ff2addd9939a6ba5102688f9fe",
     "grade": true,
     "grade_id": "cell-1af29416480b6217",
     "locked": true,
     "points": 2,
     "schema_version": 3,
     "solution": false,
     "task": false
    }
   },
   "outputs": [],
   "source": [
    "assert x.shape == (2, 5), \"The shape of `x` should be (2, 5)\"\n",
    "assert np.array_equal(x, np.array([[1.0]*5]*2)), \"Array `x` should be full of ones\""
   ]
  },
  {
   "cell_type": "markdown",
   "id": "21beac56",
   "metadata": {
    "deletable": false,
    "editable": false,
    "nbgrader": {
     "cell_type": "markdown",
     "checksum": "5bdbbcd52f2889b67931aaed0b4ec9b1",
     "grade": false,
     "grade_id": "cell-e55ef32785fae80a",
     "locked": true,
     "schema_version": 3,
     "solution": false,
     "task": false
    }
   },
   "source": [
    "## Accessing the elements of an array\n",
    "\n",
    "The elements of an array can be accessed with operator `[]` and as usual in computer science, indices start at `0`:\n",
    "\n",
    "```python\n",
    "x = np.array(\n",
    "  [[3, 5, 1, 3],\n",
    "   [6, 7, 2, 9]]\n",
    ")\n",
    "print(x[0,0]) # Prints 3\n",
    "print(x[1,2]) # Prints 2\n",
    "```\n",
    "\n",
    "This can also be used to change the values of an array:\n",
    "\n",
    "```python\n",
    "x[1,0] = 8 # First element of second row is now 8\n",
    "```\n",
    "\n",
    "We can also access multiple elements with slices. In the example below, we set the last two elements of rows 0 and 1 to zero:\n",
    "\n",
    "```python\n",
    "x[0:2, 2:4] = 0\n",
    "print(x)\n",
    "```\n",
    "\n",
    "displays\n",
    "\n",
    "```\n",
    "[[3 5 0 0]\n",
    " [8 7 0 0]]\n",
    "```\n",
    "\n",
    "and we can select all the elements of a dimension with `:`, for instance, selecting one particular row or column:\n",
    "\n",
    "```python\n",
    "print(x[1, :]) # Print second row\n",
    "print(x[:, 2]) # Print third column\n",
    "```"
   ]
  },
  {
   "cell_type": "code",
   "execution_count": null,
   "id": "17967f08",
   "metadata": {},
   "outputs": [],
   "source": [
    "x = np.array(\n",
    "  [[3, 5, 1, 3],\n",
    "   [6, 7, 2, 9]]\n",
    ")\n",
    "x[1,0] = 8 # First element of second row is now 8\n",
    "x[0:2, 2:4] = 0 # Selection of rows 0 to 2 (excluded) and column 2 to 4 (excluded)\n",
    "print(x)"
   ]
  },
  {
   "cell_type": "markdown",
   "id": "2f921b33",
   "metadata": {
    "deletable": false,
    "editable": false,
    "nbgrader": {
     "cell_type": "markdown",
     "checksum": "e6986e0f72d12a30f22ebbcf42fa3898",
     "grade": false,
     "grade_id": "cell-ecc1874afe118aca",
     "locked": true,
     "schema_version": 3,
     "solution": false,
     "task": false
    }
   },
   "source": [
    "By using `numpy.full`, slice and [extended slice](https://docs.python.org/2.3/whatsnew/section-slices.html) on the tensor itself (i.e. **don't use a temporary list nor for loops**), generate the following array:\n",
    "```\n",
    "1 3 1 3 1 3 1 3 1 3 1 \n",
    "2 3 2 3 2 3 2 4 4 4 2 \n",
    "1 3 1 3 1 3 1 4 4 4 1 \n",
    "2 3 2 3 2 3 2 3 2 3 2 \n",
    "1 3 1 3 1 3 1 3 1 3 1 \n",
    "2 3 2 3 2 3 2 3 2 3 2 \n",
    "1 3 1 3 1 3 1 3 1 3 1 \n",
    "2 3 2 3 2 3 2 3 2 3 2 \n",
    "1 3 1 3 1 3 1 3 4 4 4 \n",
    "2 3 2 3 2 3 2 3 4 4 4 \n",
    "1 3 1 3 1 3 1 3 4 4 4 \n",
    "```\n",
    "\n",
    "For instance, the following tensor\n",
    "\n",
    "```\n",
    "1 2 3 3\n",
    "2 2 2 2\n",
    "1 2 3 3\n",
    "```\n",
    "\n",
    "can be created like this (among other ways...):\n",
    "\n",
    "```python\n",
    "m = np.zeros((3,4), dtype=int)\n",
    "m[0::2,0] = 1\n",
    "m[:, 1] = 2\n",
    "m[1] = 2\n",
    "m[0::2,2:] = 3\n",
    "```\n",
    "\n",
    "> This exercice is meant to make you manipulate slices of arrays."
   ]
  },
  {
   "cell_type": "code",
   "execution_count": null,
   "id": "bbe42323",
   "metadata": {
    "deletable": false,
    "nbgrader": {
     "cell_type": "code",
     "checksum": "edc4dddc211d61f9c0656d878495ab08",
     "grade": false,
     "grade_id": "cell-f1d44d256d184d48",
     "locked": false,
     "schema_version": 3,
     "solution": true,
     "task": false
    }
   },
   "outputs": [],
   "source": [
    "# M = ...\n",
    "#\n",
    "# (<10 lines of code)\n",
    "# YOUR CODE HERE\n",
    "raise NotImplementedError()\n",
    "print(M)"
   ]
  },
  {
   "cell_type": "markdown",
   "id": "1a2353c6",
   "metadata": {
    "deletable": false,
    "editable": false,
    "nbgrader": {
     "cell_type": "markdown",
     "checksum": "51cc9d07a2a9eb2c139aafb0cad2c838",
     "grade": false,
     "grade_id": "cell-529ff952d3b17e37",
     "locked": true,
     "schema_version": 3,
     "solution": false,
     "task": false
    }
   },
   "source": [
    "Run the next cell to see if your implementation is correct:"
   ]
  },
  {
   "cell_type": "code",
   "execution_count": null,
   "id": "b74a2e34",
   "metadata": {
    "deletable": false,
    "editable": false,
    "nbgrader": {
     "cell_type": "code",
     "checksum": "88c38502a340e536b05087b6747b21b2",
     "grade": true,
     "grade_id": "cell-9ac483debdfe1f66",
     "locked": true,
     "points": 10,
     "schema_version": 3,
     "solution": false,
     "task": false
    }
   },
   "outputs": [],
   "source": [
    "assert M.shape == (11, 11)\n",
    "assert np.array_equal(M, np.array(\n",
    "    [[1, 3, 1, 3, 1, 3, 1, 3, 1, 3, 1],\n",
    "     [2, 3, 2, 3, 2, 3, 2, 4, 4, 4, 2],\n",
    "     [1, 3, 1, 3, 1, 3, 1, 4, 4, 4, 1],\n",
    "     [2, 3, 2, 3, 2, 3, 2, 3, 2, 3, 2],\n",
    "     [1, 3, 1, 3, 1, 3, 1, 3, 1, 3, 1],\n",
    "     [2, 3, 2, 3, 2, 3, 2, 3, 2, 3, 2],\n",
    "     [1, 3, 1, 3, 1, 3, 1, 3, 1, 3, 1],\n",
    "     [2, 3, 2, 3, 2, 3, 2, 3, 2, 3, 2],\n",
    "     [1, 3, 1, 3, 1, 3, 1, 3, 4, 4, 4],\n",
    "     [2, 3, 2, 3, 2, 3, 2, 3, 4, 4, 4],\n",
    "     [1, 3, 1, 3, 1, 3, 1, 3, 4, 4, 4]])), \"The two arrays should be the same\""
   ]
  },
  {
   "cell_type": "markdown",
   "id": "660598c5",
   "metadata": {
    "deletable": false,
    "editable": false,
    "nbgrader": {
     "cell_type": "markdown",
     "checksum": "40487c6c8ee84dbb934d45d6ff755200",
     "grade": false,
     "grade_id": "cell-5c9b0d8176cfb483",
     "locked": true,
     "schema_version": 3,
     "solution": false,
     "task": false
    }
   },
   "source": [
    "It can be useful to change the size of an array without changing its elements. We can do that using function `numpy.reshape()` (see the [documentation](https://numpy.org/doc/stable/reference/generated/numpy.reshape.html)) or directly on an array with `the_array.reshape()` (see the [documentation](https://numpy.org/doc/stable/reference/generated/numpy.ndarray.reshape.html)).\n",
    "\n",
    "```python\n",
    "x = np.array([[1,2,3],[4,3,2]]) # x is a 2x3 array\n",
    "y = x.reshape((1,6)) # y is a row 1x6\n",
    "print(x)\n",
    "print(y)\n",
    "```\n",
    "\n",
    "displays\n",
    "\n",
    "```\n",
    "[[1 2 3]\n",
    " [4 3 2]]\n",
    "[[1 2 3 4 3 2]]\n",
    "```\n",
    "\n",
    "Note that the `reshape()` function **does not make a copy and returns a reference**, which means that modifying one variable will also affect the other:\n",
    "\n",
    "```python\n",
    "y[0,1] = 9\n",
    "```\n",
    "\n",
    "leads to `x` being modified:\n",
    "\n",
    "```\n",
    "[[1 9 3]\n",
    " [4 3 2]]\n",
    "[[1 9 3 4 3 2]]\n",
    "```\n",
    "\n",
    "**Both arrays `x` and `y` are changed, because the underlying storage is the same**."
   ]
  },
  {
   "cell_type": "code",
   "execution_count": null,
   "id": "cae98d71",
   "metadata": {},
   "outputs": [],
   "source": [
    "x = np.array([[1,2,3],[4,3,2]])\n",
    "y = x.reshape((1,6))\n",
    "print(x)\n",
    "print(y)\n",
    "y[0,1] = 9\n",
    "print(x)\n",
    "print(y)"
   ]
  },
  {
   "cell_type": "markdown",
   "id": "e31b4e23",
   "metadata": {
    "deletable": false,
    "editable": false,
    "nbgrader": {
     "cell_type": "markdown",
     "checksum": "0f08354f1530f003d2c486636906e7b4",
     "grade": false,
     "grade_id": "cell-9214982913512d34",
     "locked": true,
     "schema_version": 3,
     "solution": false,
     "task": false
    }
   },
   "source": [
    "Using function `numpy.arange()` which creates a sequence of integers (see [its documentation](https://numpy.org/doc/stable/reference/generated/numpy.arange.html)) and then, by calling `reshape()` create an array with should be equal to:\n",
    "\n",
    "```\n",
    "[[ 0  1  2  3  4]\n",
    " [ 5  6  7  8  9]\n",
    " [10 11 12 13 14]\n",
    " [15 16 17 18 19]]\n",
    "```"
   ]
  },
  {
   "cell_type": "code",
   "execution_count": null,
   "id": "622bc489",
   "metadata": {
    "deletable": false,
    "nbgrader": {
     "cell_type": "code",
     "checksum": "44eccee2aacd615f8872bdb1f1255ca1",
     "grade": false,
     "grade_id": "cell-6fe4e4d9329d5f58",
     "locked": false,
     "schema_version": 3,
     "solution": true,
     "task": false
    }
   },
   "outputs": [],
   "source": [
    "# Create an array x using arange and reshape\n",
    "# which should be equal to the values above.\n",
    "#\n",
    "# x = ...\n",
    "#\n",
    "# (<3 lines of code)\n",
    "# YOUR CODE HERE\n",
    "raise NotImplementedError()\n",
    "print(x)"
   ]
  },
  {
   "cell_type": "markdown",
   "id": "d4a635ba",
   "metadata": {
    "deletable": false,
    "editable": false,
    "nbgrader": {
     "cell_type": "markdown",
     "checksum": "72207caf54f604c0d345dc7564702108",
     "grade": false,
     "grade_id": "cell-44de9d26ff78d90d",
     "locked": true,
     "schema_version": 3,
     "solution": false,
     "task": false
    }
   },
   "source": [
    "Run the next cell to see if your implementation is correct:"
   ]
  },
  {
   "cell_type": "code",
   "execution_count": null,
   "id": "09a07f2c",
   "metadata": {
    "deletable": false,
    "editable": false,
    "nbgrader": {
     "cell_type": "code",
     "checksum": "404060d5c66188699c3a4d761236ebd0",
     "grade": true,
     "grade_id": "cell-2bfa5f64dc830a5b",
     "locked": true,
     "points": 1,
     "schema_version": 3,
     "solution": false,
     "task": false
    }
   },
   "outputs": [],
   "source": [
    "assert x.shape == (4,5)\n",
    "assert np.array_equal(x, np.array(\n",
    "    [[ 0,  1,  2,  3,  4],\n",
    "     [ 5,  6,  7,  8,  9],\n",
    "     [10, 11, 12, 13, 14],\n",
    "     [15, 16, 17, 18, 19]])), \"The two arrays should be the same\""
   ]
  },
  {
   "cell_type": "markdown",
   "id": "c9061fd1",
   "metadata": {
    "deletable": false,
    "editable": false,
    "nbgrader": {
     "cell_type": "markdown",
     "checksum": "8cc00172c45bcba68fcec103db4cb563",
     "grade": false,
     "grade_id": "cell-276ae9d88e6fab92",
     "locked": true,
     "schema_version": 3,
     "solution": false,
     "task": false
    }
   },
   "source": [
    "# Operations on arrays\n",
    "\n",
    "In NumPy, we have **element-wise** operations which should be performed on arrays of the same shape: `+`, `-`, `/`, `*`. For instance, if `A` and `B` are of shape `(m, n)`, then `C = A * B` is the element-wise multiplcation:\n",
    "\n",
    "$$C_{i, j} = A_{i, j} \\times B_{i, j}.$$\n",
    "\n",
    "If we want to do a matrix-matrix multiplication on `A` of shape `(m, n)` and `B` of shape `(n, p)`, we use `C = A @ B` where\n",
    "\n",
    "$$C_{i, j} = \\sum_{k=1}^n A_{i, k}  \\times B_{k, j}$$"
   ]
  },
  {
   "cell_type": "markdown",
   "id": "2fc0e325",
   "metadata": {
    "deletable": false,
    "editable": false,
    "nbgrader": {
     "cell_type": "markdown",
     "checksum": "80bcc06121062476563cf6fcd7ac9f48",
     "grade": false,
     "grade_id": "cell-506f175859dba041",
     "locked": true,
     "schema_version": 3,
     "solution": false,
     "task": false
    }
   },
   "source": [
    "Create an array `A` equal to\n",
    "\n",
    "```\n",
    "[[ 4.  3.  6. 12.]\n",
    " [ 9.  0.  6.  3.]\n",
    " [ 1.  2.  3.  8.]]\n",
    "```\n",
    "\n",
    "and an array `B` equal to\n",
    "\n",
    "```\n",
    "[[2. 2. 4. 6.]\n",
    " [3. 9. 6. 1.]\n",
    " [2. 2. 2. 4.]]\n",
    "```\n",
    "\n",
    "and compute the following element-wise operation \"A plus B\", \"A minus B\", \"A times B\", and \"A divided by B\"."
   ]
  },
  {
   "cell_type": "code",
   "execution_count": null,
   "id": "b370d25a",
   "metadata": {
    "deletable": false,
    "nbgrader": {
     "cell_type": "code",
     "checksum": "1dc9aec6f651fefc500b18c3fc760298",
     "grade": false,
     "grade_id": "cell-0aa676d027d558cc",
     "locked": false,
     "schema_version": 3,
     "solution": true,
     "task": false
    }
   },
   "outputs": [],
   "source": [
    "# A = ...\n",
    "# B = ...\n",
    "# A_plus_B = ...\n",
    "# A_minus_B = ...\n",
    "# A_times_B = ...\n",
    "# A_div_B = ...\n",
    "#\n",
    "# (~6 lines of code)\n",
    "# YOUR CODE HERE\n",
    "raise NotImplementedError()"
   ]
  },
  {
   "cell_type": "markdown",
   "id": "3afce7c7",
   "metadata": {
    "deletable": false,
    "editable": false,
    "nbgrader": {
     "cell_type": "markdown",
     "checksum": "d307c7ee4a57502ae27ca172ae17edec",
     "grade": false,
     "grade_id": "cell-2c314d2fc14273ea",
     "locked": true,
     "schema_version": 3,
     "solution": false,
     "task": false
    }
   },
   "source": [
    "Run the next cell to see if your implementation is correct:"
   ]
  },
  {
   "cell_type": "code",
   "execution_count": null,
   "id": "98c57925",
   "metadata": {
    "deletable": false,
    "editable": false,
    "nbgrader": {
     "cell_type": "code",
     "checksum": "ae5bf45eec9910a69bf1a9d997ed0c2c",
     "grade": true,
     "grade_id": "cell-f3f84f1740ae6cfc",
     "locked": true,
     "points": 4,
     "schema_version": 3,
     "solution": false,
     "task": false
    }
   },
   "outputs": [],
   "source": [
    "assert A.shape == (3,4), \"The size of `A` should be (3,4)\"\n",
    "assert B.shape == (3,4), \"The size of `B` should be (3,4)\"\n",
    "assert np.array_equal(A_plus_B, np.array([[ 6, 5, 10, 18], [12, 9, 12, 4], [ 3, 4, 5, 12]]))\n",
    "assert np.array_equal(A_minus_B, np.array([[ 2, 1, 2, 6], [ 6, -9, 0, 2], [-1, 0, 1, 4]]))\n",
    "assert np.array_equal(A_times_B, np.array([[ 8, 6, 24, 72], [27, 0, 36, 3], [ 2, 4, 6, 32]]))\n",
    "assert np.array_equal(A_div_B, np.array([[2, 1.5, 1.5, 2], [3, 0, 1, 3], [0.5, 1, 1.5, 2]]))"
   ]
  },
  {
   "cell_type": "markdown",
   "id": "2f62e1c0",
   "metadata": {
    "deletable": false,
    "editable": false,
    "nbgrader": {
     "cell_type": "markdown",
     "checksum": "257197c4c30ea9147f36bd55907bc073",
     "grade": false,
     "grade_id": "cell-8cb9f40e51acceda",
     "locked": true,
     "schema_version": 3,
     "solution": false,
     "task": false
    }
   },
   "source": [
    "In this section, you will compare an implementation of a \"naive\" matrix-matrix multiplication with `for` loops with the matrix-matrix multiplication (operator `@`) of NumPy.\n",
    "\n",
    "If we want to do a matrix-matrix multiplication of `A` of shape `(m, n)` and `B` of shape `(n, p)`, we use `C = A @ B` where\n",
    "\n",
    "$$C_{i, j} = \\sum_{k=1}^n A_{i, k}  \\times B_{k, j}$$\n",
    "\n",
    "In the cell below, implement function `matrix_multiplicaton_3_for_loops` which should return a matrix equal to the matrix-matrix product of the two input matrices, where you implement the product by yourself. Don't do `return A @ B`..."
   ]
  },
  {
   "cell_type": "code",
   "execution_count": null,
   "id": "c350a38f",
   "metadata": {
    "deletable": false,
    "nbgrader": {
     "cell_type": "code",
     "checksum": "b0484f33e903a65be8c22c77f99a50fa",
     "grade": false,
     "grade_id": "cell-538e8e5afc63e972",
     "locked": false,
     "schema_version": 3,
     "solution": true,
     "task": false
    }
   },
   "outputs": [],
   "source": [
    "def matrix_multiplicaton_3_for_loops(A, B):\n",
    "    \"\"\"Performs matrix-matrix multiplication AB\n",
    "    \n",
    "    Args:\n",
    "      A: input NumPy array of shape (m, n)\n",
    "      B: input NumPy array of shape (n, p)\n",
    "      \n",
    "    Returns:\n",
    "      NumPy array of shape (m, p) equal to AB\n",
    "      \n",
    "    \"\"\"\n",
    "    assert A.shape[1] == B.shape[0], \"The number of columns of A should be equal to the number of rows of B\"\n",
    "    C = np.zeros((A.shape[0], B.shape[1]))\n",
    "    # YOUR CODE HERE\n",
    "    raise NotImplementedError()\n",
    "    return C"
   ]
  },
  {
   "cell_type": "markdown",
   "id": "a627fdce",
   "metadata": {
    "deletable": false,
    "editable": false,
    "nbgrader": {
     "cell_type": "markdown",
     "checksum": "7574b4fae016df47f733c576af2fe19e",
     "grade": false,
     "grade_id": "cell-b6052324ca912330",
     "locked": true,
     "schema_version": 3,
     "solution": false,
     "task": false
    }
   },
   "source": [
    "Run the cell below to check whether your implementation is correct:"
   ]
  },
  {
   "cell_type": "code",
   "execution_count": null,
   "id": "bcbd5dd6",
   "metadata": {
    "deletable": false,
    "editable": false,
    "nbgrader": {
     "cell_type": "code",
     "checksum": "89618dc974c1a83d352f0bce425f1f5f",
     "grade": true,
     "grade_id": "cell-2515bad16c085472",
     "locked": true,
     "points": 10,
     "schema_version": 3,
     "solution": false,
     "task": false
    }
   },
   "outputs": [],
   "source": [
    "assert_A = np.array([[1, 2, 3, 2], [5, 4, 3, 2], [6, 3, 7, 5]])\n",
    "assert_B = np.array([[3, 2], [9, 8], [7, 6], [3, 4]])\n",
    "assert np.array_equal(matrix_multiplicaton_3_for_loops(assert_A, assert_B), assert_A @ assert_B)"
   ]
  },
  {
   "cell_type": "markdown",
   "id": "77adc87f",
   "metadata": {
    "deletable": false,
    "editable": false,
    "nbgrader": {
     "cell_type": "markdown",
     "checksum": "250735c71d694a4aa882204b4f2b0b6f",
     "grade": false,
     "grade_id": "cell-df3c03ea49f90920",
     "locked": true,
     "schema_version": 3,
     "solution": false,
     "task": false
    }
   },
   "source": [
    "In the cell below, create two arrays `A` and `B` of shape `(m, n)` and `(n, p)` respectively filled with random values, and compare the time it takes between your function `matrix_multiplicaton_3_for_loops` and the NumPy matrix-matrix operator `@`. Use for instance `m=500`, `n=200`, and `p=300`.\n",
    "\n",
    "You can measure a duration with for instance:\n",
    "\n",
    "```python\n",
    "tic = time.perf_counter()\n",
    "# Do something\n",
    "toc = time.perf_counter()\n",
    "print(f\"Took {toc-tic:.4f} seconds\")\n",
    "```\n",
    "\n",
    "Create your matrices with `numpy.random.rand()`, see its [documentation](https://numpy.org/doc/stable/reference/random/generated/numpy.random.rand.html)."
   ]
  },
  {
   "cell_type": "code",
   "execution_count": null,
   "id": "4c04b076",
   "metadata": {
    "deletable": false,
    "nbgrader": {
     "cell_type": "code",
     "checksum": "35a6c4d3d4148c54f68bad8e7800d016",
     "grade": false,
     "grade_id": "cell-f984702276490d5b",
     "locked": false,
     "schema_version": 3,
     "solution": true,
     "task": false
    }
   },
   "outputs": [],
   "source": [
    "# Compare matrix_multiplicaton_3_for_loops and @\n",
    "#\n",
    "# m = ...\n",
    "# n = ...\n",
    "# p = ...\n",
    "# C_3loops = ...\n",
    "# C_numpy = ...\n",
    "#\n",
    "# (<20 lines of code)\n",
    "# YOUR CODE HERE\n",
    "raise NotImplementedError()"
   ]
  },
  {
   "cell_type": "markdown",
   "id": "1e96bb59",
   "metadata": {
    "deletable": false,
    "editable": false,
    "nbgrader": {
     "cell_type": "markdown",
     "checksum": "51c324bb54eee0ca77764c677c7d39ba",
     "grade": false,
     "grade_id": "cell-52df6f46f2d8f320",
     "locked": true,
     "schema_version": 3,
     "solution": false,
     "task": false
    }
   },
   "source": [
    "Run the cell below to check whether your implementation is correct:"
   ]
  },
  {
   "cell_type": "code",
   "execution_count": null,
   "id": "70d8f803",
   "metadata": {
    "deletable": false,
    "editable": false,
    "nbgrader": {
     "cell_type": "code",
     "checksum": "9a3a3fe3d4af19657e6545c8f69e4259",
     "grade": true,
     "grade_id": "cell-f4877467d563dec9",
     "locked": true,
     "points": 10,
     "schema_version": 3,
     "solution": false,
     "task": false
    }
   },
   "outputs": [],
   "source": [
    "assert np.allclose(C_3loops, C_numpy, atol=1e-06), \"The two matrices should be equal\""
   ]
  },
  {
   "cell_type": "markdown",
   "id": "6e85ad23",
   "metadata": {
    "deletable": false,
    "editable": false,
    "nbgrader": {
     "cell_type": "markdown",
     "checksum": "71b1d7e3ec1ef3d64c626b556a2ffcd1",
     "grade": false,
     "grade_id": "cell-b3244a3c95ed42fc",
     "locked": true,
     "schema_version": 3,
     "solution": false,
     "task": false
    }
   },
   "source": [
    "# Computing mean accross different axis\n",
    "\n",
    "Reduction operations (such as mean, variance, standard deviation, etc.) are performed across one or several axis.\n",
    "\n",
    "For instance, you may want to compute the mean of the rows of an array, or the mean image of a data set. Note the following three situations given this input array:\n",
    "\n",
    "```python\n",
    "x = np.array(\n",
    "   [[1, 2, 3, 4, 2],\n",
    "    [1, 6, 5, 2, 2],\n",
    "    [1, 4, 9, 2, 2],\n",
    "    [1, 8, 7, 6, 2]]\n",
    ")\n",
    "```\n",
    "\n",
    "Calling `x.mean()` computes the mean of all the coefficients of the array:\n",
    "\n",
    "```\n",
    "3.5\n",
    "```\n",
    "\n",
    "Calling `x.mean(axis=0, keepdims=True)` computes the mean of each column:\n",
    "\n",
    "```\n",
    "[[1.  5.  6.  3.5 2. ]]\n",
    "```\n",
    "\n",
    "By default, `keepdims` is `False` and would return `[1.  5.  6.  3.5]` (note a 1d array instead of 2d).\n",
    "\n",
    "Calling `x.mean(axis=1, keepdims=True)` computes the mean of each row:\n",
    "\n",
    "```\n",
    "[[2.4]\n",
    " [3.2]\n",
    " [3.6]\n",
    " [4.8]]\n",
    "```"
   ]
  },
  {
   "cell_type": "code",
   "execution_count": null,
   "id": "0e5b7932",
   "metadata": {},
   "outputs": [],
   "source": [
    "x = np.array(\n",
    "   [[1, 2, 3, 4, 2],\n",
    "    [1, 6, 5, 2, 2],\n",
    "    [1, 4, 9, 2, 2],\n",
    "    [1, 8, 7, 6, 2]]\n",
    ")\n",
    "print(x.mean())\n",
    "print(x.mean(axis=0, keepdims=True))\n",
    "print(x.mean(axis=1, keepdims=True))"
   ]
  },
  {
   "cell_type": "markdown",
   "id": "21a3071f",
   "metadata": {
    "deletable": false,
    "editable": false,
    "nbgrader": {
     "cell_type": "markdown",
     "checksum": "d83968fe5696137df39170f7df23c6d3",
     "grade": false,
     "grade_id": "cell-679a5d49f9b75586",
     "locked": true,
     "schema_version": 3,
     "solution": false,
     "task": false
    }
   },
   "source": [
    "A teacher has 6 students and made 4 exams. Here are the grades:\n",
    "\n",
    "| Name    | Exam 1 | Exam 2 | Exam 3 | Exam 4 |\n",
    "|---------|--------|--------|--------|--------|\n",
    "| Joe     |      6 |    5.5 |      4 |      5 |\n",
    "| William |    5.5 |    5.5 |      4 |      4 |\n",
    "| Jack    |    4.5 |      3 |    3.5 |      6 |\n",
    "| Averell |      6 |      6 |    5.5 |      4 |\n",
    "| Luke    |    4.5 |      5 |    5.5 |      6 |\n",
    "| Billy   |      3 |    2.5 |      4 |    4.5 |\n",
    "\n",
    "After creating an array `grades` of shape `(6,4)` and using function `mean(axis=...)`, compute the mean for each exam, and the mean for each student."
   ]
  },
  {
   "cell_type": "code",
   "execution_count": null,
   "id": "4492d30d",
   "metadata": {
    "deletable": false,
    "nbgrader": {
     "cell_type": "code",
     "checksum": "d8593fbe8cbdd6230a076b4c08e0a567",
     "grade": false,
     "grade_id": "cell-e77f9ba7d8c76d2e",
     "locked": false,
     "schema_version": 3,
     "solution": true,
     "task": false
    }
   },
   "outputs": [],
   "source": [
    "# YOUR CODE HERE\n",
    "raise NotImplementedError()"
   ]
  },
  {
   "cell_type": "markdown",
   "id": "45ecf9ce",
   "metadata": {
    "deletable": false,
    "editable": false,
    "nbgrader": {
     "cell_type": "markdown",
     "checksum": "ff84f702d701ac693a77b7dee9216d55",
     "grade": false,
     "grade_id": "cell-37c63d0689e32a58",
     "locked": true,
     "schema_version": 3,
     "solution": false,
     "task": false
    }
   },
   "source": [
    "Run the cell below to check whether your implementation is correct:"
   ]
  },
  {
   "cell_type": "code",
   "execution_count": null,
   "id": "af36d9b0",
   "metadata": {
    "deletable": false,
    "editable": false,
    "nbgrader": {
     "cell_type": "code",
     "checksum": "e74407521433d2a7f7b6ec34ce62d495",
     "grade": true,
     "grade_id": "cell-abbfc137b131b033",
     "locked": true,
     "points": 5,
     "schema_version": 3,
     "solution": false,
     "task": false
    }
   },
   "outputs": [],
   "source": [
    "assert grades[0,0] == 6, \"The first grade of Joe is 6\"\n",
    "assert grades[1,-1] == 4, \"The last grade of William is 4\"\n",
    "assert np.allclose(exam_means.squeeze(), np.array([4.91666667, 4.58333333, 4.41666667, 4.91666667]), atol=0.5), \"The exam means are wrong\"\n",
    "assert np.allclose(student_means.squeeze(), np.array([5.125,4.75,4.25,5.375,5.25,3.5]), atol=0.6), \"The student means are wrong\""
   ]
  },
  {
   "cell_type": "markdown",
   "id": "db72d65b",
   "metadata": {
    "deletable": false,
    "editable": false,
    "nbgrader": {
     "cell_type": "markdown",
     "checksum": "9808957f156e26740c9c0d7ad8aa0dcd",
     "grade": false,
     "grade_id": "cell-9f698e6c2a0152c3",
     "locked": true,
     "schema_version": 3,
     "solution": false,
     "task": false
    }
   },
   "source": [
    "## Plotting with Matplotlib\n",
    "\n",
    "In this section, we present the basic functions to plot a graph with Matplotlib.\n",
    "\n",
    "First, let's import Matplotlib (the second line is specific to Jupyter and not to Python)."
   ]
  },
  {
   "cell_type": "code",
   "execution_count": null,
   "id": "292a6f0c",
   "metadata": {},
   "outputs": [],
   "source": [
    "import matplotlib.pyplot as plt\n",
    "%matplotlib inline"
   ]
  },
  {
   "cell_type": "markdown",
   "id": "8bc3eda5",
   "metadata": {
    "deletable": false,
    "editable": false,
    "nbgrader": {
     "cell_type": "markdown",
     "checksum": "5af67c0c32d276f169af8f7a28ec093c",
     "grade": false,
     "grade_id": "cell-2db3023c0a7cd55a",
     "locked": true,
     "schema_version": 3,
     "solution": false,
     "task": false
    }
   },
   "source": [
    "In the next cell, by using `np.random.normal()` (see its [documentation](https://numpy.org/doc/stable/reference/random/generated/numpy.random.normal.html)), create a array `X1` of shape `(100, 2)` representing of 100 2d-samples following a Gaussian distribution with mean `(0, 0)` and standard deviation `(1,1)`, and an array `X2` representing 100 2d-samples following a Gaussian distribution with mean `(8, 2)` and standard deviation `(2, 0.5)`.\n",
    "\n",
    "Then, using function `matplotlib.pyplot.plot` (see its [documentation](https://matplotlib.org/stable/api/_as_gen/matplotlib.pyplot.plot.html)), plot these two variables in the 2d plan. You may also want to use `matplotlib.pyplot.legend()` as well as play with different [markers](https://matplotlib.org/stable/api/markers_api.html). You should obtain something like the following:\n",
    "\n",
    "<div style=\"max-width:40%; margin:auto; padding:10px;\">\n",
    "\n",
    "![Gaussian distributions](pics/gauss.png)\n",
    "\n",
    "</div>\n",
    "\n",
    "For instance, the following code generates 100 2d points uniformly in $[0, 1]^2$ and plots them:\n",
    "\n",
    "```python\n",
    "X = np.random.rand(100,2)\n",
    "plt.plot(X[:,0], X[:,1], \"ro\") # ro is for red circle\n",
    "plt.show()\n",
    "```\n",
    "\n",
    "and displays\n",
    "\n",
    "<div style=\"max-width:40%; margin:auto; padding:10px;\">\n",
    "\n",
    "![Uniform distribution](pics/uniform.png)\n",
    "\n",
    "</div>"
   ]
  },
  {
   "cell_type": "code",
   "execution_count": null,
   "id": "289564fd",
   "metadata": {
    "deletable": false,
    "nbgrader": {
     "cell_type": "code",
     "checksum": "960bc2941001bbe0724cc7cd0c56f776",
     "grade": false,
     "grade_id": "cell-ded92f603a67aec1",
     "locked": false,
     "schema_version": 3,
     "solution": true,
     "task": false
    }
   },
   "outputs": [],
   "source": [
    "# X1 = ...\n",
    "# X2 = ...\n",
    "# plt.plot(...)\n",
    "# ...\n",
    "# plt.show()\n",
    "#\n",
    "# (<15 lines of code)\n",
    "# YOUR CODE HERE\n",
    "raise NotImplementedError()"
   ]
  },
  {
   "cell_type": "markdown",
   "id": "8a268d71",
   "metadata": {
    "deletable": false,
    "editable": false,
    "nbgrader": {
     "cell_type": "markdown",
     "checksum": "52f6c4e2ce44b8f328652d3eb9ee446b",
     "grade": false,
     "grade_id": "cell-ea5015c5ccacf27e",
     "locked": true,
     "schema_version": 3,
     "solution": false,
     "task": false
    }
   },
   "source": [
    "Run the cell below to check whether your implementation is correct:"
   ]
  },
  {
   "cell_type": "code",
   "execution_count": null,
   "id": "be37913d",
   "metadata": {
    "deletable": false,
    "editable": false,
    "nbgrader": {
     "cell_type": "code",
     "checksum": "af3f10cdf8a02eafa97c79fbdc94fc56",
     "grade": true,
     "grade_id": "cell-99efe9a193332360",
     "locked": true,
     "points": 2,
     "schema_version": 3,
     "solution": false,
     "task": false
    }
   },
   "outputs": [],
   "source": [
    "assert X1.shape == (100, 2), \"We expect 100 samples of dim 2\"\n",
    "assert X2.shape == (100, 2), \"We expect 100 samples of dim 2\"\n",
    "assert np.allclose(X1.mean(axis=0, keepdims=True), (0, 0), atol=0.5), \"The mean of X1 should be around (0,0)\"\n",
    "assert np.allclose(X1.std(axis=0, keepdims=True), (1, 1), atol=0.5), \"The stdev of X1 should be around (1,1)\"\n",
    "assert np.allclose(X2.mean(axis=0, keepdims=True), (8, 2), atol=0.5), \"The mean of X2 should be around (8,2)\"\n",
    "assert np.allclose(X2.std(axis=0, keepdims=True), (2, 0.5), atol=0.5), \"The stdev of X2 should be around (2,0.5)\""
   ]
  },
  {
   "cell_type": "markdown",
   "id": "4f505374",
   "metadata": {
    "deletable": false,
    "editable": false,
    "nbgrader": {
     "cell_type": "markdown",
     "checksum": "2b112e918c8419c7acb21554690929fe",
     "grade": false,
     "grade_id": "cell-3d9ec48c5b53b463",
     "locked": true,
     "schema_version": 3,
     "solution": false,
     "task": false
    }
   },
   "source": [
    "Finally, we will plot a curve with Matplotlib. Usually in machine learning, we want to plot the loss of the model being trained as a function of the number of epochs.\n",
    "\n",
    "Given the following variables `epochs` and `loss`, play with the parameters of `plt.plot` and try to generate the following plot:\n",
    "\n",
    "<div style=\"max-width:40%; margin:auto; padding:10px;\">\n",
    "\n",
    "![Epoch and loss](pics/epoch-loss.png)\n",
    "\n",
    "</div>\n",
    "\n",
    "You may use `plt.title`, `plt.xlabel`, `plt.ylabel`, etc. If you need to save your plot for a report, you can use:\n",
    "\n",
    "```python\n",
    "plt.savefig(\"plot.pdf\", bbox_inches=\"tight\")\n",
    "```\n"
   ]
  },
  {
   "cell_type": "code",
   "execution_count": null,
   "id": "8b67cb6e",
   "metadata": {
    "deletable": false,
    "nbgrader": {
     "cell_type": "code",
     "checksum": "5625d8d1a898746c0f5f07f5dddd571f",
     "grade": false,
     "grade_id": "cell-53469cfd2492da3c",
     "locked": false,
     "schema_version": 3,
     "solution": true,
     "task": false
    }
   },
   "outputs": [],
   "source": [
    "epochs = [0, 1, 2, 3, 4, 5, 6, 7]\n",
    "loss = [2.3, 0.8, 0.4, 0.2, 0.1, 0.09, 0.08, 0.05]\n",
    "\n",
    "# plt.plot(...)\n",
    "# plt.savefig(\"plot.png\")\n",
    "# plt.show()\n",
    "#\n",
    "# (<10 lines of code)\n",
    "# YOUR CODE HERE\n",
    "raise NotImplementedError()"
   ]
  },
  {
   "cell_type": "markdown",
   "id": "017deb6e",
   "metadata": {
    "deletable": false,
    "editable": false,
    "nbgrader": {
     "cell_type": "markdown",
     "checksum": "ec89822ddc1fcdf56e01baca2d8eed92",
     "grade": false,
     "grade_id": "cell-0db05daf3a108358",
     "locked": true,
     "schema_version": 3,
     "solution": false,
     "task": false
    }
   },
   "source": [
    "Run the cell below to check whether your implementation is correct:"
   ]
  },
  {
   "cell_type": "code",
   "execution_count": null,
   "id": "4f48a72e",
   "metadata": {
    "deletable": false,
    "editable": false,
    "nbgrader": {
     "cell_type": "code",
     "checksum": "b54f6712cbb6e2813f3fe2621e78729c",
     "grade": true,
     "grade_id": "cell-1c68ffc2b39eb11a",
     "locked": true,
     "points": 2,
     "schema_version": 3,
     "solution": false,
     "task": false
    }
   },
   "outputs": [],
   "source": [
    "assert len(epochs) == 8, \"This is a dummy test as it is difficult to automatically check a plot\""
   ]
  },
  {
   "cell_type": "markdown",
   "id": "7dec01e5",
   "metadata": {
    "deletable": false,
    "editable": false,
    "nbgrader": {
     "cell_type": "markdown",
     "checksum": "390be4f5bdda754ae6fd2bcd4987ad88",
     "grade": false,
     "grade_id": "cell-c1b7021dd935014e",
     "locked": true,
     "schema_version": 3,
     "solution": false,
     "task": false
    }
   },
   "source": [
    "# Feedback\n",
    "You have now reached the end of this practical session. Please give us your feedback in the block below:\n",
    "1. What have you learned?\n",
    "2. What should be improved?\n",
    "3. What was unclear?\n",
    "4. Any comment is welcome!\n",
    "\n",
    "**Do not forget to save your notebook before submitting it, otherwise you submit the last autosave checkpoint.**"
   ]
  },
  {
   "cell_type": "markdown",
   "id": "4b12cf1c",
   "metadata": {
    "deletable": false,
    "nbgrader": {
     "cell_type": "markdown",
     "checksum": "97734b2a4af857a50fc50ba1ade065b9",
     "grade": true,
     "grade_id": "cell-b6073b656072ed90",
     "locked": false,
     "points": 0,
     "schema_version": 3,
     "solution": true,
     "task": false
    }
   },
   "source": [
    "YOUR ANSWER HERE"
   ]
  }
 ],
 "metadata": {
  "kernelspec": {
   "display_name": "Python3",
   "language": "python",
   "name": "python3"
  },
  "language_info": {
   "codemirror_mode": {
    "name": "ipython",
    "version": 3
   },
   "file_extension": ".py",
   "mimetype": "text/x-python",
   "name": "python",
   "nbconvert_exporter": "python",
   "pygments_lexer": "ipython3",
   "version": "3.12.5"
  }
 },
 "nbformat": 4,
 "nbformat_minor": 5
}
